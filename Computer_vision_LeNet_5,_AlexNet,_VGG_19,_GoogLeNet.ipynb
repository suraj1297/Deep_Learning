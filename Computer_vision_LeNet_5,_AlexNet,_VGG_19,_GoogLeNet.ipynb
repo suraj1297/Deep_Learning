{
  "nbformat": 4,
  "nbformat_minor": 0,
  "metadata": {
    "colab": {
      "name": " Computer vision: LeNet-5, AlexNet, VGG-19, GoogLeNet.ipynb",
      "provenance": [],
      "collapsed_sections": []
    },
    "kernelspec": {
      "name": "python3",
      "display_name": "Python 3"
    },
    "accelerator": "GPU"
  },
  "cells": [
    {
      "cell_type": "markdown",
      "metadata": {
        "id": "-AGgGBoEZsBo",
        "colab_type": "text"
      },
      "source": [
        "<h1 style=\"text-align:center\">\n",
        "Computer vision: LeNet-5, AlexNet, VGG-16/19, GoogLeNet</h1>"
      ]
    },
    {
      "cell_type": "code",
      "metadata": {
        "id": "8guIOWMnZcPB",
        "colab_type": "code",
        "colab": {}
      },
      "source": [
        "# importing Basic Packages\n",
        "\n",
        "import numpy as np\n",
        "import pandas as pd\n",
        "import matplotlib.pyplot as plt\n",
        "import seaborn as sns\n",
        "import keras\n",
        "from keras.models import Sequential\n",
        "from keras.layers import Dense, Dropout, Activation, Conv2D, MaxPooling2D, Flatten, ZeroPadding2D, AveragePooling2D,Reshape, BatchNormalization\n",
        "from PIL import Image\n",
        "from keras.datasets import mnist\n",
        "from keras.optimizers import SGD\n",
        "from keras.preprocessing.image import ImageDataGenerator"
      ],
      "execution_count": 0,
      "outputs": []
    },
    {
      "cell_type": "markdown",
      "metadata": {
        "id": "OHr9LX9db4HI",
        "colab_type": "text"
      },
      "source": [
        "# 1 LeNet-5 for MNIST"
      ]
    },
    {
      "cell_type": "markdown",
      "metadata": {
        "id": "R4pqZQh8eA6d",
        "colab_type": "text"
      },
      "source": [
        "![alt text](https://engmrk.com/wp-content/uploads/2018/09/LeNet_Original_Image.jpg)"
      ]
    },
    {
      "cell_type": "code",
      "metadata": {
        "id": "x-5856SggJft",
        "colab_type": "code",
        "colab": {}
      },
      "source": [
        "# Loading Dataset \n",
        "\n",
        "(train_data, train_labels), (test_data, test_labels) = mnist.load_data()\n",
        "\n",
        "X_train = train_data.reshape(train_data.shape[0], 28, 28, 1).astype('float32')/255\n",
        "X_test = test_data.reshape(test_data.shape[0], 28, 28, 1).astype('float32')/255\n",
        "\n",
        "\n",
        "y_train = keras.utils.to_categorical(train_labels, 10)\n",
        "y_test = keras.utils.to_categorical(test_labels, 10)"
      ],
      "execution_count": 0,
      "outputs": []
    },
    {
      "cell_type": "code",
      "metadata": {
        "id": "Cqu-Vxh7afGp",
        "colab_type": "code",
        "outputId": "42f5a565-bc03-403b-b0b0-4cd9b06e61d8",
        "colab": {
          "base_uri": "https://localhost:8080/",
          "height": 1000
        }
      },
      "source": [
        "\"\"\" Define model \"\"\"\n",
        "\n",
        "model = Sequential()\n",
        "\n",
        "# Layer 1  Conv => MaxPooling => Activation\n",
        "model.add(Conv2D(6, (5,5), input_shape=(28,28,1), padding=\"valid\", strides=(1,1)))\n",
        "model.add(MaxPooling2D(pool_size=(2,2)))\n",
        "model.add(Activation(\"sigmoid\"))\n",
        "\n",
        "# Layer 2\n",
        "model.add(Conv2D(16, (5,5), activation=\"sigmoid\", padding=\"valid\", strides=(1,1)))\n",
        "model.add(MaxPooling2D((2,2)))\n",
        "model.add(Dropout(0.5))\n",
        "\n",
        "# Layer 3\n",
        "model.add(Conv2D(120, (1,1), activation=\"sigmoid\", padding=\"valid\",strides=(1,1)))\n",
        "\n",
        "#Layer 4\n",
        "model.add(Flatten())\n",
        "model.add(Dense(84, activation=\"sigmoid\"))\n",
        "\n",
        "#Layer 5\n",
        "model.add(Dense(10, activation=\"softmax\"))\n",
        "\n",
        "# Info abt Tensors shape after each stage\n",
        "model.summary()\n",
        "\n",
        "\n",
        "\"\"\" Compile model \"\"\"\n",
        "opt = SGD(lr=0.2, momentum=0.1, nesterov=True)\n",
        "model.compile(loss=\"categorical_crossentropy\", optimizer=opt, metrics=[\"accuracy\"])\n",
        "\n",
        "# \"\"\"Train and First model\"\"\"\n",
        "history = model.fit(X_train, y_train, epochs=10, batch_size=128, validation_split=0.1)\n",
        "\n",
        "print(\"*\"*60)\n",
        "\n",
        "# Accuracy on test data\n",
        "_, accuracy = model.evaluate(X_test, y_test, batch_size=128, verbose=0)\n",
        "print(\"Accuracy on test data is : \", accuracy)\n",
        "\n",
        "# plotting Accuracy\n",
        "\n",
        "plt.plot(history.history[\"acc\"], label=\"Train Acuracy\", color=\"blue\")\n",
        "plt.plot(history.history[\"val_acc\"], label=\"Test Acuracy\", color=\"red\")\n",
        "plt.grid()\n",
        "plt.legend()\n",
        "plt.show()"
      ],
      "execution_count": 0,
      "outputs": [
        {
          "output_type": "stream",
          "text": [
            "Model: \"sequential_36\"\n",
            "_________________________________________________________________\n",
            "Layer (type)                 Output Shape              Param #   \n",
            "=================================================================\n",
            "conv2d_92 (Conv2D)           (None, 24, 24, 6)         156       \n",
            "_________________________________________________________________\n",
            "max_pooling2d_59 (MaxPooling (None, 12, 12, 6)         0         \n",
            "_________________________________________________________________\n",
            "activation_30 (Activation)   (None, 12, 12, 6)         0         \n",
            "_________________________________________________________________\n",
            "conv2d_93 (Conv2D)           (None, 8, 8, 16)          2416      \n",
            "_________________________________________________________________\n",
            "max_pooling2d_60 (MaxPooling (None, 4, 4, 16)          0         \n",
            "_________________________________________________________________\n",
            "dropout_30 (Dropout)         (None, 4, 4, 16)          0         \n",
            "_________________________________________________________________\n",
            "conv2d_94 (Conv2D)           (None, 4, 4, 120)         2040      \n",
            "_________________________________________________________________\n",
            "flatten_29 (Flatten)         (None, 1920)              0         \n",
            "_________________________________________________________________\n",
            "dense_57 (Dense)             (None, 84)                161364    \n",
            "_________________________________________________________________\n",
            "dense_58 (Dense)             (None, 10)                850       \n",
            "=================================================================\n",
            "Total params: 166,826\n",
            "Trainable params: 166,826\n",
            "Non-trainable params: 0\n",
            "_________________________________________________________________\n",
            "Train on 54000 samples, validate on 6000 samples\n",
            "Epoch 1/10\n",
            "54000/54000 [==============================] - 5s 99us/step - loss: 2.3129 - acc: 0.1031 - val_loss: 2.3053 - val_acc: 0.1050\n",
            "Epoch 2/10\n",
            "54000/54000 [==============================] - 4s 66us/step - loss: 2.3049 - acc: 0.1064 - val_loss: 2.3064 - val_acc: 0.1050\n",
            "Epoch 3/10\n",
            "54000/54000 [==============================] - 4s 66us/step - loss: 2.3041 - acc: 0.1072 - val_loss: 2.3100 - val_acc: 0.1050\n",
            "Epoch 4/10\n",
            "54000/54000 [==============================] - 4s 67us/step - loss: 2.3040 - acc: 0.1093 - val_loss: 2.3072 - val_acc: 0.1050\n",
            "Epoch 5/10\n",
            "54000/54000 [==============================] - 4s 68us/step - loss: 2.3032 - acc: 0.1099 - val_loss: 2.3029 - val_acc: 0.1045\n",
            "Epoch 6/10\n",
            "54000/54000 [==============================] - 4s 68us/step - loss: 2.3024 - acc: 0.1106 - val_loss: 2.3025 - val_acc: 0.1050\n",
            "Epoch 7/10\n",
            "54000/54000 [==============================] - 4s 67us/step - loss: 2.3019 - acc: 0.1127 - val_loss: 2.3019 - val_acc: 0.1050\n",
            "Epoch 8/10\n",
            "54000/54000 [==============================] - 4s 67us/step - loss: 2.3016 - acc: 0.1130 - val_loss: 2.3028 - val_acc: 0.1050\n",
            "Epoch 9/10\n",
            "54000/54000 [==============================] - 4s 68us/step - loss: 2.3017 - acc: 0.1132 - val_loss: 2.3025 - val_acc: 0.1050\n",
            "Epoch 10/10\n",
            "54000/54000 [==============================] - 4s 68us/step - loss: 2.3017 - acc: 0.1127 - val_loss: 2.3026 - val_acc: 0.1050\n",
            "************************************************************\n",
            "Accuracy on test data is :  0.1135\n"
          ],
          "name": "stdout"
        },
        {
          "output_type": "display_data",
          "data": {
            "image/png": "[encoded data removed]",
            "text/plain": [
              "<Figure size 432x288 with 1 Axes>"
            ]
          },
          "metadata": {
            "tags": []
          }
        }
      ]
    },
    {
      "cell_type": "markdown",
      "metadata": {
        "id": "hywvn9NTT-HB",
        "colab_type": "text"
      },
      "source": [
        "# 2  LeNet-5 with \"Distortions\" (i.e., Data augmentation)"
      ]
    },
    {
      "cell_type": "code",
      "metadata": {
        "id": "jFVGZIWD0NqD",
        "colab_type": "code",
        "colab": {}
      },
      "source": [
        "datagen = ImageDataGenerator(featurewise_center=False, # set input mean to 0 of dataset\n",
        "                            samplewise_center = False, # set sample input mean to 0\n",
        "                            zca_whitening = False,   # use whitening effect\n",
        "                            featurewise_std_normalization= False, # divide the dataset by std of dataset\n",
        "                            samplewise_std_normalization = False,  # divide each sample by its std\n",
        "                            width_shift_range = 0.1,  # shifting image to left and right by 10%\n",
        "                            height_shift_range = 0.1, # shifting image up and below by 10%\n",
        "                            vertical_flip = False,    # Fliping the image vertically i.e upside down\n",
        "                            horizontal_flip = False,  # mirror image\n",
        "                            zoom_range = 0.5,         # zooming in and out by 5%\n",
        "                            )\n",
        "\n",
        "datagen.fit(X_train)"
      ],
      "execution_count": 0,
      "outputs": []
    },
    {
      "cell_type": "code",
      "metadata": {
        "id": "9cUKXUbtZVwG",
        "colab_type": "code",
        "colab": {
          "base_uri": "https://localhost:8080/",
          "height": 202
        },
        "outputId": "f3146977-5ee0-4023-d94f-11e8b6931f13"
      },
      "source": [
        "\"\"\"Define model\"\"\"\n",
        "model = Sequential()\n",
        "\n",
        "# Layer 1\n",
        "model.add(Conv2D(6, (5,5), activation=\"sigmoid\", kernel_initializer=\"he_uniform\", padding=\"valid\", strides=1, input_shape=(28,28,1)))\n",
        "model.add(MaxPooling2D(pool_size=(2,2), strides=(2,2)))\n",
        "\n",
        "# Layer 2\n",
        "model.add(Conv2D(16, (5,5), activation=\"sigmoid\", strides=1, padding=\"valid\"))\n",
        "model.add(MaxPooling2D(pool_size=(2,2), strides=2))\n",
        "model.add(Dropout(0.4))\n",
        "# Layer 3\n",
        "model.add(Conv2D(120, (1,1), activation=\"sigmoid\", padding=\"valid\", strides=1))\n",
        "\n",
        "# Layer 4\n",
        "model.add(Flatten())\n",
        "model.add(Dense(84, activation=\"sigmoid\"))\n",
        "\n",
        "# Layer 5\n",
        "model.add(Dense(10, activation=\"softmax\"))\n",
        "\n",
        "\"\"\"Compile Model\"\"\"\n",
        "opt = SGD(lr=0.01, momentum=0.1, nesterov=True)\n",
        "model.compile(loss=\"categorical_crossentropy\", optimizer=opt, metrics=[\"accuracy\"])\n",
        "\n",
        "\"\"\"Train and Fit model\"\"\"\n",
        "model.fit(X_train, y_train, epochs=5, batch_size=128)\n",
        "\n",
        "\"\"\"Accuracy\"\"\"\n",
        "\n",
        "# Test data\n",
        "_, accuracy = model.evaluate(X_test,y_test, batch_size=128, verbose=0)\n",
        "print(\"Accuracy on test data : \", accuracy)"
      ],
      "execution_count": 42,
      "outputs": [
        {
          "output_type": "stream",
          "text": [
            "Epoch 1/5\n",
            "60000/60000 [==============================] - 4s 69us/step - loss: 2.3079 - acc: 0.1078\n",
            "Epoch 2/5\n",
            "60000/60000 [==============================] - 4s 63us/step - loss: 2.3028 - acc: 0.1086\n",
            "Epoch 3/5\n",
            "60000/60000 [==============================] - 4s 63us/step - loss: 2.3028 - acc: 0.1085\n",
            "Epoch 4/5\n",
            "60000/60000 [==============================] - 4s 61us/step - loss: 2.3025 - acc: 0.1097\n",
            "Epoch 5/5\n",
            "60000/60000 [==============================] - 4s 61us/step - loss: 2.3024 - acc: 0.1109\n",
            "Accuracy on test data :  0.1135\n"
          ],
          "name": "stdout"
        }
      ]
    },
    {
      "cell_type": "markdown",
      "metadata": {
        "id": "I1nOwBr3spIO",
        "colab_type": "text"
      },
      "source": [
        "# OverFeat adaptation of AlexNet (2012)"
      ]
    },
    {
      "cell_type": "markdown",
      "metadata": {
        "id": "aoo2x9s91LFk",
        "colab_type": "text"
      },
      "source": [
        "![alt text](https://www.oreilly.com/library/view/hands-on-java-deep/9781789613964/assets/e06f2b94-4735-4cff-a350-59c4a577e55d.png)"
      ]
    },
    {
      "cell_type": "code",
      "metadata": {
        "id": "SwpR6z2ssL17",
        "colab_type": "code",
        "colab": {}
      },
      "source": [
        "from keras.datasets import cifar10\n",
        "\n",
        "# train data\n",
        "(train_data, train_labels), (test_data, test_labels) = cifar10.load_data()"
      ],
      "execution_count": 0,
      "outputs": []
    },
    {
      "cell_type": "code",
      "metadata": {
        "id": "JK4TX00A1cyi",
        "colab_type": "code",
        "colab": {}
      },
      "source": [
        "# Normalizing data\n",
        "\n",
        "X_train = train_data.astype('float32')/255\n",
        "X_test = test_data.astype('float32')/255\n",
        "\n",
        "# Encoding labels\n",
        "y_train = keras.utils.to_categorical(train_labels, 10)\n",
        "y_test = keras.utils.to_categorical(test_labels, 10)"
      ],
      "execution_count": 0,
      "outputs": []
    },
    {
      "cell_type": "code",
      "metadata": {
        "id": "K56ftbdh12D6",
        "colab_type": "code",
        "colab": {
          "base_uri": "https://localhost:8080/",
          "height": 571
        },
        "outputId": "961222e8-25d4-4a75-f079-848195298395"
      },
      "source": [
        "# Define Model\n",
        "model = Sequential()\n",
        "\n",
        "# Layer 1\n",
        "model.add(Conv2D(96, (11,11), strides=4, padding=\"same\", activation=\"relu\", input_shape=(32,32,3)))\n",
        "model.add(MaxPooling2D(pool_size=(2,2), strides=2))\n",
        "\n",
        "# Layer 2\n",
        "model.add(Conv2D(256, (5,5), strides=1, padding=\"same\", activation=\"relu\"))\n",
        "model.add(MaxPooling2D(pool_size=(2,2), strides=2))\n",
        "\n",
        "# Layer 3\n",
        "model.add(Conv2D(384, (3,3), strides=1, padding=\"same\", activation=\"relu\"))\n",
        "model.add(BatchNormalization())\n",
        "# Layer 4\n",
        "model.add(Conv2D(384, (3,3), strides=1, padding=\"same\", activation=\"relu\"))      \n",
        "\n",
        "# Layer 5\n",
        "model.add(Conv2D(256, (3,3), strides=1, padding=\"same\", activation=\"relu\"))   \n",
        "model.add(MaxPooling2D(pool_size=(2,2), strides=2))\n",
        "model.add(BatchNormalization())\n",
        "\n",
        "# Layer 6\n",
        "model.add(Flatten())\n",
        "model.add(Dense(9216, activation=\"relu\", kernel_initializer=\"glorot_normal\"))\n",
        "\n",
        "# Layer 7\n",
        "model.add(Dense(4096, activation=\"relu\", kernel_initializer=\"glorot_normal\"))\n",
        "\n",
        "# Layer 8\n",
        "model.add(Dense(4096, activation=\"relu\", kernel_initializer=\"glorot_normal\"))\n",
        "\n",
        "# layer 9\n",
        "model.add(Dense(10, activation=\"softmax\",kernel_initializer=\"glorot_normal\"))\n",
        "\n",
        "\"\"\"Compile Model\"\"\"\n",
        "model.compile(loss=\"categorical_crossentropy\", optimizer=\"adam\", metrics=['accuracy'])\n",
        "\n",
        "\"\"\"Train and Fit model\"\"\"\n",
        "model.fit(X_train, y_train, epochs=15, batch_size=128, validation_split=0.2)\n",
        "\n",
        "\"\"\"Evaluate\"\"\"\n",
        "_,accuracy = model.evaluate(X_test, y_test, batch_size=128)\n",
        "print(\"Accuracy on Test data : \", accuracy)"
      ],
      "execution_count": 65,
      "outputs": [
        {
          "output_type": "stream",
          "text": [
            "Train on 40000 samples, validate on 10000 samples\n",
            "Epoch 1/15\n",
            "40000/40000 [==============================] - 42s 1ms/step - loss: 1.8631 - acc: 0.3053 - val_loss: 1.6613 - val_acc: 0.3712\n",
            "Epoch 2/15\n",
            "40000/40000 [==============================] - 39s 986us/step - loss: 1.5634 - acc: 0.4114 - val_loss: 1.6362 - val_acc: 0.4134\n",
            "Epoch 3/15\n",
            "40000/40000 [==============================] - 39s 982us/step - loss: 1.4351 - acc: 0.4660 - val_loss: 1.5993 - val_acc: 0.4329\n",
            "Epoch 4/15\n",
            "40000/40000 [==============================] - 39s 981us/step - loss: 1.3455 - acc: 0.5046 - val_loss: 1.3801 - val_acc: 0.5049\n",
            "Epoch 5/15\n",
            "40000/40000 [==============================] - 39s 982us/step - loss: 1.2634 - acc: 0.5403 - val_loss: 1.4142 - val_acc: 0.4937\n",
            "Epoch 6/15\n",
            "40000/40000 [==============================] - 39s 977us/step - loss: 1.1944 - acc: 0.5667 - val_loss: 1.6083 - val_acc: 0.4703\n",
            "Epoch 7/15\n",
            "40000/40000 [==============================] - 39s 978us/step - loss: 1.1189 - acc: 0.5967 - val_loss: 1.3640 - val_acc: 0.5347\n",
            "Epoch 8/15\n",
            "40000/40000 [==============================] - 39s 979us/step - loss: 1.0512 - acc: 0.6200 - val_loss: 1.3348 - val_acc: 0.5481\n",
            "Epoch 9/15\n",
            "40000/40000 [==============================] - 39s 977us/step - loss: 0.9844 - acc: 0.6455 - val_loss: 1.4542 - val_acc: 0.5234\n",
            "Epoch 10/15\n",
            "40000/40000 [==============================] - 39s 978us/step - loss: 0.9145 - acc: 0.6730 - val_loss: 1.4098 - val_acc: 0.5507\n",
            "Epoch 11/15\n",
            "40000/40000 [==============================] - 39s 978us/step - loss: 0.8537 - acc: 0.6969 - val_loss: 1.2674 - val_acc: 0.5925\n",
            "Epoch 12/15\n",
            "40000/40000 [==============================] - 39s 978us/step - loss: 0.7806 - acc: 0.7233 - val_loss: 1.8211 - val_acc: 0.5094\n",
            "Epoch 13/15\n",
            "40000/40000 [==============================] - 39s 976us/step - loss: 0.7203 - acc: 0.7463 - val_loss: 1.4086 - val_acc: 0.5732\n",
            "Epoch 14/15\n",
            "40000/40000 [==============================] - 39s 976us/step - loss: 0.6612 - acc: 0.7675 - val_loss: 1.4527 - val_acc: 0.5679\n",
            "Epoch 15/15\n",
            "40000/40000 [==============================] - 39s 975us/step - loss: 0.5994 - acc: 0.7873 - val_loss: 1.4277 - val_acc: 0.5799\n",
            "10000/10000 [==============================] - 1s 141us/step\n",
            "Accuracy on Test data :  0.5775\n"
          ],
          "name": "stdout"
        }
      ]
    },
    {
      "cell_type": "markdown",
      "metadata": {
        "id": "Lc9kTjsUAPIC",
        "colab_type": "text"
      },
      "source": [
        "# VGG16 – Convolutional Network for Classification and Detection"
      ]
    },
    {
      "cell_type": "markdown",
      "metadata": {
        "id": "7U9suTzeAShP",
        "colab_type": "text"
      },
      "source": [
        "![alt text](https://neurohive.io/wp-content/uploads/2018/11/vgg16-1-e1542731207177.png)"
      ]
    },
    {
      "cell_type": "code",
      "metadata": {
        "id": "tHiPrTPy4wju",
        "colab_type": "code",
        "colab": {
          "base_uri": "https://localhost:8080/",
          "height": 370
        },
        "outputId": "1ec86af8-b922-4646-f9b2-6bb61ed6f308"
      },
      "source": [
        "\"\"\"Define Model\"\"\"\n",
        "model = Sequential()\n",
        "\n",
        "# Layer 1\n",
        "model.add(Conv2D(64,(3,3), strides=1, padding=\"same\", activation=\"relu\", input_shape=(32,32,3)))\n",
        "model.add(Conv2D(64,(3,3), strides=1, padding=\"same\", activation=\"relu\"))\n",
        "model.add(MaxPooling2D((2,2), strides=2))\n",
        "\n",
        "# Layer 2\n",
        "model.add(Conv2D(128, (3,3),strides=1,padding=\"same\", activation=\"relu\" ))\n",
        "model.add(Conv2D(128, (3,3),strides=1,padding=\"same\", activation=\"relu\" ))\n",
        "model.add(MaxPooling2D((2,2), strides=2))\n",
        "\n",
        "# Layer 3\n",
        "model.add(Conv2D(256, (3,3),strides=1,padding=\"same\", activation=\"relu\" ))\n",
        "model.add(Conv2D(256, (3,3),strides=1,padding=\"same\", activation=\"relu\" ))\n",
        "model.add(Conv2D(256, (3,3),strides=1,padding=\"same\", activation=\"relu\" ))\n",
        "model.add(MaxPooling2D((2,2), strides=2))\n",
        "model.add(BatchNormalization())\n",
        "\n",
        "# Layer 4\n",
        "model.add(Conv2D(512, (3,3),strides=1,padding=\"same\", activation=\"relu\" ))\n",
        "model.add(Conv2D(512, (3,3),strides=1,padding=\"same\", activation=\"relu\" ))\n",
        "model.add(Conv2D(512, (3,3),strides=1,padding=\"same\", activation=\"relu\" ))\n",
        "model.add(MaxPooling2D((2,2), strides=2))\n",
        "\n",
        "# Layer 5\n",
        "model.add(Conv2D(1024, (3,3),strides=1,padding=\"same\", activation=\"relu\" ))\n",
        "model.add(Conv2D(1024, (3,3),strides=1,padding=\"same\", activation=\"relu\" ))\n",
        "model.add(Conv2D(1024, (3,3),strides=1,padding=\"same\", activation=\"relu\" ))\n",
        "model.add(MaxPooling2D((2,2), strides=2))\n",
        "model.add(BatchNormalization())\n",
        "\n",
        "# Layer 6\n",
        "model.add(Flatten())\n",
        "model.add(Dense(4096, activation=\"relu\"))\n",
        "\n",
        "# Layer 7\n",
        "model.add(Dense(4096, activation=\"relu\"))\n",
        "\n",
        "# Layer 8\n",
        "model.add(Dense(10, activation=\"softmax\"))\n",
        "\n",
        "\"\"\"Compile Model\"\"\"\n",
        "model.compile(loss=\"categorical_crossentropy\", optimizer='adam', metrics=[\"accuracy\"])\n",
        "\n",
        "\"\"\"Train and fit model\"\"\"\n",
        "model.fit(X_train, y_train, epochs=10, batch_size=1000)\n",
        "\n",
        "\"\"\"Evaluate\"\"\"\n",
        "_,accuracy = model.evaluate(X_test, y_test, verbose=0)\n",
        "print(\"Accuracy on Test data : \", accuracy)\n",
        "\n",
        "          "
      ],
      "execution_count": 70,
      "outputs": [
        {
          "output_type": "stream",
          "text": [
            "Epoch 1/10\n",
            "50000/50000 [==============================] - 59s 1ms/step - loss: 2.3253 - acc: 0.1483\n",
            "Epoch 2/10\n",
            "50000/50000 [==============================] - 55s 1ms/step - loss: 1.7383 - acc: 0.2946\n",
            "Epoch 3/10\n",
            "50000/50000 [==============================] - 54s 1ms/step - loss: 1.4962 - acc: 0.4063\n",
            "Epoch 4/10\n",
            "50000/50000 [==============================] - 55s 1ms/step - loss: 1.2227 - acc: 0.5393\n",
            "Epoch 5/10\n",
            "50000/50000 [==============================] - 55s 1ms/step - loss: 0.9994 - acc: 0.6331\n",
            "Epoch 6/10\n",
            "50000/50000 [==============================] - 55s 1ms/step - loss: 0.8351 - acc: 0.6990\n",
            "Epoch 7/10\n",
            "50000/50000 [==============================] - 55s 1ms/step - loss: 0.7107 - acc: 0.7455\n",
            "Epoch 8/10\n",
            "50000/50000 [==============================] - 55s 1ms/step - loss: 0.6250 - acc: 0.7801\n",
            "Epoch 9/10\n",
            "50000/50000 [==============================] - 55s 1ms/step - loss: 0.5293 - acc: 0.8120\n",
            "Epoch 10/10\n",
            "50000/50000 [==============================] - 55s 1ms/step - loss: 0.4580 - acc: 0.8395\n",
            "Accuracy on Test data :  0.5668\n"
          ],
          "name": "stdout"
        }
      ]
    },
    {
      "cell_type": "code",
      "metadata": {
        "id": "zKNMnKX0Szyo",
        "colab_type": "code",
        "colab": {}
      },
      "source": [
        ""
      ],
      "execution_count": 0,
      "outputs": []
    }
  ]
}