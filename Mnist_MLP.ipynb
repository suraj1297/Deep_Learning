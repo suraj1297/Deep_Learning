{
  "nbformat": 4,
  "nbformat_minor": 0,
  "metadata": {
    "colab": {
      "name": "Mnist_MLP.ipynb",
      "provenance": [],
      "collapsed_sections": []
    },
    "kernelspec": {
      "name": "python3",
      "display_name": "Python 3"
    },
    "accelerator": "GPU"
  },
  "cells": [
    {
      "cell_type": "code",
      "metadata": {
        "id": "D0vftGkufa_u",
        "colab_type": "code",
        "colab": {}
      },
      "source": [
        "!pip install tensorflow-gpu==1.14\n",
        "!pip install keras"
      ],
      "execution_count": 0,
      "outputs": []
    },
    {
      "cell_type": "code",
      "metadata": {
        "id": "tpzR2El7fiq0",
        "colab_type": "code",
        "colab": {}
      },
      "source": [
        "from keras.datasets import mnist\n",
        "from keras.models import Sequential\n",
        "from keras.layers import Dense, Dropout\n",
        "import keras\n",
        "from keras.layers import BatchNormalization\n",
        "from keras.optimizers import SGD\n",
        "import matplotlib.pyplot as plt"
      ],
      "execution_count": 0,
      "outputs": []
    },
    {
      "cell_type": "code",
      "metadata": {
        "id": "RMzQGDhKgb4W",
        "colab_type": "code",
        "colab": {}
      },
      "source": [
        "(X_train, y_train), (X_test, y_test) = mnist.load_data()"
      ],
      "execution_count": 0,
      "outputs": []
    },
    {
      "cell_type": "code",
      "metadata": {
        "id": "XEssX5MFgmSu",
        "colab_type": "code",
        "colab": {}
      },
      "source": [
        "X_train = X_train.reshape(60000,-1)\n",
        "X_test = X_test.reshape(10000, -1)"
      ],
      "execution_count": 0,
      "outputs": []
    },
    {
      "cell_type": "code",
      "metadata": {
        "id": "RTjTnCstgojj",
        "colab_type": "code",
        "colab": {}
      },
      "source": [
        "# from 0-255 changing 0-1\n",
        "\n",
        "X_train = X_train.astype(float)/255\n",
        "#y_train = y_train.astype(float)/255\n",
        "X_test = X_test.astype(float)/255\n",
        "#y_test = y_test.astype(float)/255\n"
      ],
      "execution_count": 0,
      "outputs": []
    },
    {
      "cell_type": "code",
      "metadata": {
        "id": "LSGewojBlYJW",
        "colab_type": "code",
        "colab": {}
      },
      "source": [
        "# Convert labels to categorical one-hot encoding\n",
        "y_train = keras.utils.to_categorical(y_train, 10)\n",
        "y_test = keras.utils.to_categorical(y_test, 10)"
      ],
      "execution_count": 0,
      "outputs": []
    },
    {
      "cell_type": "code",
      "metadata": {
        "id": "trU-7hIrhfs3",
        "colab_type": "code",
        "outputId": "b70acb07-568a-4718-b692-62ba8b2f2795",
        "colab": {
          "base_uri": "https://localhost:8080/",
          "height": 790
        }
      },
      "source": [
        "# Lets start building model\n",
        "\n",
        "opt = [\"adam\", SGD(lr = 0.01, momentum=0.99)]\n",
        "\n",
        "for optm in opt:\n",
        "  # Define Keras Model\n",
        "  model = Sequential()\n",
        "  model.add(Dense(512, input_dim=784, activation=\"relu\", kernel_initializer=\"he_uniform\"))\n",
        "  model.add(Dropout(0.2))\n",
        "  model.add(Dense(512, activation=\"relu\"))\n",
        "  model.add(BatchNormalization())\n",
        "  model.add(Dropout(0.2))\n",
        "  model.add(Dense(10,activation=\"softmax\"))\n",
        "\n",
        "  # Compile Keras model\n",
        "  \n",
        "  model.compile(loss=\"categorical_crossentropy\", optimizer=optm, metrics=[\"accuracy\"])\n",
        "\n",
        "  # Train and Fit keras model\n",
        "  history = model.fit(X_train, y_train, epochs=20, batch_size=128, validation_data=(X_test, y_test), verbose=0)\n",
        "\n",
        "  # Evaluate model\n",
        "  _, accuracy = model.evaluate(X_test, y_test, batch_size=128, verbose=0)\n",
        "  print(\"Accuracy on test data is : \", accuracy)\n",
        "  \n",
        "  _, accuracy = model.evaluate(X_train, y_train, batch_size=128, verbose=0)\n",
        "  print(\"Accuracy on train data is : \", accuracy)\n",
        "\n",
        "  # Predictions\n",
        "  predictions = model.predict_classes(X_test)\n",
        "  for i in range(5):\n",
        "    print(\"Prediction : {} --> Expected : {}\".format(predictions[i], np.argmax(y_test[i])))\n",
        "    \n",
        "  # Plotting\n",
        "  plt.plot(history.history[\"acc\"], label=\"train\")\n",
        "  plt.plot(history.history[\"val_acc\"], label=\"test\")\n",
        "  plt.legend()\n",
        "  plt.grid()\n",
        "  plt.show()\n",
        "  \n",
        "  print(\"*\"*50)"
      ],
      "execution_count": 0,
      "outputs": [
        {
          "output_type": "stream",
          "text": [
            "Accuracy on test data is :  0.9854\n",
            "Accuracy on train data is :  0.9987999999682109\n",
            "Prediction : 7 --> Expected : 7\n",
            "Prediction : 2 --> Expected : 2\n",
            "Prediction : 1 --> Expected : 1\n",
            "Prediction : 0 --> Expected : 0\n",
            "Prediction : 4 --> Expected : 4\n"
          ],
          "name": "stdout"
        },
        {
          "output_type": "display_data",
          "data": {
            "image/png": "[encoded data removed]",
            "text/plain": [
              "<Figure size 432x288 with 1 Axes>"
            ]
          },
          "metadata": {
            "tags": []
          }
        },
        {
          "output_type": "stream",
          "text": [
            "**************************************************\n",
            "Accuracy on test data is :  0.9848\n",
            "Accuracy on train data is :  0.9989999999682109\n",
            "Prediction : 7 --> Expected : 7\n",
            "Prediction : 2 --> Expected : 2\n",
            "Prediction : 1 --> Expected : 1\n",
            "Prediction : 0 --> Expected : 0\n",
            "Prediction : 4 --> Expected : 4\n"
          ],
          "name": "stdout"
        },
        {
          "output_type": "display_data",
          "data": {
            "image/png": "[encoded data removed]",
            "text/plain": [
              "<Figure size 432x288 with 1 Axes>"
            ]
          },
          "metadata": {
            "tags": []
          }
        },
        {
          "output_type": "stream",
          "text": [
            "**************************************************\n"
          ],
          "name": "stdout"
        }
      ]
    },
    {
      "cell_type": "code",
      "metadata": {
        "id": "wXbADBqfoSKR",
        "colab_type": "code",
        "colab": {}
      },
      "source": [
        ""
      ],
      "execution_count": 0,
      "outputs": []
    }
  ]
}