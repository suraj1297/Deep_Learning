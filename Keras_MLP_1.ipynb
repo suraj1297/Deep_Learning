{
  "nbformat": 4,
  "nbformat_minor": 0,
  "metadata": {
    "colab": {
      "name": "Keras_MLP_1.ipynb",
      "provenance": [],
      "collapsed_sections": []
    },
    "kernelspec": {
      "name": "python3",
      "display_name": "Python 3"
    },
    "accelerator": "GPU"
  },
  "cells": [
    {
      "cell_type": "code",
      "metadata": {
        "id": "2cGe3wW-e78a",
        "colab_type": "code",
        "colab": {}
      },
      "source": [
        "!pip install tensorflow-gpu==1.14"
      ],
      "execution_count": 0,
      "outputs": []
    },
    {
      "cell_type": "code",
      "metadata": {
        "id": "MDTA0fnev7dg",
        "colab_type": "code",
        "outputId": "9b4dbe51-516e-447c-a858-f4d79c060a64",
        "colab": {
          "base_uri": "https://localhost:8080/",
          "height": 151
        }
      },
      "source": [
        "!pip install keras"
      ],
      "execution_count": 0,
      "outputs": [
        {
          "output_type": "stream",
          "text": [
            "Requirement already satisfied: keras in /usr/local/lib/python3.6/dist-packages (2.2.5)\n",
            "Requirement already satisfied: h5py in /usr/local/lib/python3.6/dist-packages (from keras) (2.8.0)\n",
            "Requirement already satisfied: six>=1.9.0 in /usr/local/lib/python3.6/dist-packages (from keras) (1.12.0)\n",
            "Requirement already satisfied: scipy>=0.14 in /usr/local/lib/python3.6/dist-packages (from keras) (1.3.1)\n",
            "Requirement already satisfied: numpy>=1.9.1 in /usr/local/lib/python3.6/dist-packages (from keras) (1.16.5)\n",
            "Requirement already satisfied: keras-applications>=1.0.8 in /usr/local/lib/python3.6/dist-packages (from keras) (1.0.8)\n",
            "Requirement already satisfied: pyyaml in /usr/local/lib/python3.6/dist-packages (from keras) (3.13)\n",
            "Requirement already satisfied: keras-preprocessing>=1.1.0 in /usr/local/lib/python3.6/dist-packages (from keras) (1.1.0)\n"
          ],
          "name": "stdout"
        }
      ]
    },
    {
      "cell_type": "code",
      "metadata": {
        "id": "lfYAXtPiwOpI",
        "colab_type": "code",
        "colab": {}
      },
      "source": [
        "!pip install -U -q PyDrive\n",
        "from pydrive.auth import GoogleAuth\n",
        "from pydrive.drive import GoogleDrive\n",
        "from google.colab import auth\n",
        "from oauth2client.client import GoogleCredentials\n",
        "\n",
        "auth.authenticate_user()\n",
        "gauth = GoogleAuth()\n",
        "gauth.credentials = GoogleCredentials.get_application_default()\n",
        "drive = GoogleDrive(gauth)\n",
        "\n"
      ],
      "execution_count": 0,
      "outputs": []
    },
    {
      "cell_type": "code",
      "metadata": {
        "id": "prk5g6r3x1Gd",
        "colab_type": "code",
        "colab": {}
      },
      "source": [
        "link = \"https://drive.google.com/open?id=1PIM6X1u4Ys_PgDDzswtLFOiJMl7rRfDV\"\n",
        "\n",
        "fluff, id = link.split('=')\n",
        "\n",
        "downloaded = drive.CreateFile({'id':id}) \n",
        "downloaded.GetContentFile('pima.txt')  \n",
        "#training_variants = pd.read_csv('traning_variants')"
      ],
      "execution_count": 0,
      "outputs": []
    },
    {
      "cell_type": "code",
      "metadata": {
        "id": "9ACSdHx5tNzY",
        "colab_type": "code",
        "colab": {}
      },
      "source": [
        "import numpy as np\n",
        "from keras.models import Sequential\n",
        "from keras.layers import Dense\n",
        "import warnings\n",
        "warnings.filterwarnings(\"ignore\")"
      ],
      "execution_count": 0,
      "outputs": []
    },
    {
      "cell_type": "code",
      "metadata": {
        "id": "A6dtWI7GwErw",
        "colab_type": "code",
        "colab": {}
      },
      "source": [
        "data = np.loadtxt(\"pima.txt\", delimiter=\",\")"
      ],
      "execution_count": 0,
      "outputs": []
    },
    {
      "cell_type": "code",
      "metadata": {
        "id": "RMd2SgTTyOUa",
        "colab_type": "code",
        "colab": {}
      },
      "source": [
        "X = data[:,0:8]\n",
        "y = data[:, 8]"
      ],
      "execution_count": 0,
      "outputs": []
    },
    {
      "cell_type": "code",
      "metadata": {
        "id": "6xmPXHqnyPG1",
        "colab_type": "code",
        "colab": {}
      },
      "source": [
        "# Define keras model\n",
        "\n",
        "model = Sequential()\n",
        "model.add(Dense(12, input_dim=8, activation=\"relu\"))\n",
        "model.add(Dense(8, activation=\"relu\"))\n",
        "model.add(Dense(1, activation=\"sigmoid\"))"
      ],
      "execution_count": 0,
      "outputs": []
    },
    {
      "cell_type": "code",
      "metadata": {
        "id": "PRmZ-roqyZED",
        "colab_type": "code",
        "colab": {}
      },
      "source": [
        "# Compile defined Keras model\n",
        "\n",
        "model.compile(loss=\"binary_crossentropy\", optimizer=\"adam\", metrics=[\"accuracy\"])"
      ],
      "execution_count": 0,
      "outputs": []
    },
    {
      "cell_type": "code",
      "metadata": {
        "id": "ZRGDQk4DzM8x",
        "colab_type": "code",
        "colab": {}
      },
      "source": [
        "# Fit the model on dataset\n",
        "\n",
        "model.fit(X,y.reshape(-1,1), epochs=150, batch_size=20)"
      ],
      "execution_count": 0,
      "outputs": []
    },
    {
      "cell_type": "code",
      "metadata": {
        "id": "eTNAGHN73ykb",
        "colab_type": "code",
        "outputId": "dc7c8758-1c40-4f94-a3da-be27986eabd2",
        "colab": {
          "base_uri": "https://localhost:8080/",
          "height": 50
        }
      },
      "source": [
        "# Evaluate on train data\n",
        "\n",
        "_, accuracy = model.evaluate(X,y)\n",
        "\n",
        "print(\"Accuracy on Train data is %.2f\" %(accuracy*100))"
      ],
      "execution_count": 0,
      "outputs": [
        {
          "output_type": "stream",
          "text": [
            "768/768 [==============================] - 0s 64us/step\n",
            "Accuracy on Train data is 75.39\n"
          ],
          "name": "stdout"
        }
      ]
    },
    {
      "cell_type": "code",
      "metadata": {
        "id": "WMgaCYnj5Kz1",
        "colab_type": "code",
        "colab": {}
      },
      "source": [
        "import numpy as np\n",
        "from keras.models import Sequential\n",
        "from keras.layers import Dense\n",
        "from sklearn.model_selection import train_test_split\n",
        "from sklearn.metrics import log_loss\n",
        "from sklearn.preprocessing import StandardScaler"
      ],
      "execution_count": 0,
      "outputs": []
    },
    {
      "cell_type": "code",
      "metadata": {
        "id": "1hDI1KoY5lBK",
        "colab_type": "code",
        "colab": {}
      },
      "source": [
        "data = np.loadtxt(\"pima.txt\", delimiter=\",\")\n",
        "\n",
        "X = data[:,0:8]\n",
        "y = data[:,8]\n",
        "\n",
        "# splitting data into train and test\n",
        "X_train, X_test, y_train, y_test = train_test_split(X,y, test_size=0.3, stratify=y, random_state=0)\n",
        "\n",
        "# Standard Scaling\n",
        "std = StandardScaler()\n",
        "X_train = std.fit_transform(X_train)\n",
        "X_test = std.transform(X_test)"
      ],
      "execution_count": 0,
      "outputs": []
    },
    {
      "cell_type": "code",
      "metadata": {
        "id": "b_1FZxoc5yPR",
        "colab_type": "code",
        "outputId": "cddb273a-5cb0-4db4-e1c9-5c27f3cee3c6",
        "colab": {
          "base_uri": "https://localhost:8080/",
          "height": 1000
        }
      },
      "source": [
        "# Define keras model\n",
        "model = Sequential()\n",
        "model.add(Dense(12,input_dim=8, activation=\"relu\"))\n",
        "model.add(Dense(8, activation=\"relu\"))\n",
        "model.add(Dense(1, activation=\"sigmoid\"))\n",
        "\n",
        "# Compile keras model\n",
        "model.compile(loss=\"binary_crossentropy\", optimizer=\"adam\", metrics=[\"accuracy\"])\n",
        "\n",
        "# Fit compiled model\n",
        "model.fit(X_train,y_train, epochs=150, batch_size=15)\n",
        "\n",
        "# Evaluate Model on test data\n",
        "_, accuracy= model.evaluate(X_test, y_test)\n",
        "\n",
        "print(\"Test Data\")\n",
        "print(\"Accuracy is : \", accuracy)\n",
        "\n",
        "# Evaluate Model on train data\n",
        "_, accuracy = model.evaluate(X_train,y_train)\n",
        "print(\"Train Data\")\n",
        "print(\"Accuracy is : \", accuracy)"
      ],
      "execution_count": 0,
      "outputs": [
        {
          "output_type": "stream",
          "text": [
            "Epoch 1/150\n",
            "537/537 [==============================] - 1s 2ms/step - loss: 0.6835 - acc: 0.5419\n",
            "Epoch 2/150\n",
            "537/537 [==============================] - 0s 333us/step - loss: 0.6554 - acc: 0.6313\n",
            "Epoch 3/150\n",
            "537/537 [==============================] - 0s 345us/step - loss: 0.6339 - acc: 0.6723\n",
            "Epoch 4/150\n",
            "537/537 [==============================] - 0s 384us/step - loss: 0.6154 - acc: 0.6872\n",
            "Epoch 5/150\n",
            "537/537 [==============================] - 0s 322us/step - loss: 0.5982 - acc: 0.6909\n",
            "Epoch 6/150\n",
            "537/537 [==============================] - 0s 322us/step - loss: 0.5824 - acc: 0.7039\n",
            "Epoch 7/150\n",
            "537/537 [==============================] - 0s 349us/step - loss: 0.5674 - acc: 0.7207\n",
            "Epoch 8/150\n",
            "537/537 [==============================] - 0s 323us/step - loss: 0.5523 - acc: 0.7281\n",
            "Epoch 9/150\n",
            "537/537 [==============================] - 0s 320us/step - loss: 0.5388 - acc: 0.7374\n",
            "Epoch 10/150\n",
            "537/537 [==============================] - 0s 301us/step - loss: 0.5270 - acc: 0.7430\n",
            "Epoch 11/150\n",
            "537/537 [==============================] - 0s 331us/step - loss: 0.5171 - acc: 0.7505\n",
            "Epoch 12/150\n",
            "537/537 [==============================] - 0s 336us/step - loss: 0.5084 - acc: 0.7523\n",
            "Epoch 13/150\n",
            "537/537 [==============================] - 0s 337us/step - loss: 0.5010 - acc: 0.7523\n",
            "Epoch 14/150\n",
            "537/537 [==============================] - 0s 329us/step - loss: 0.4940 - acc: 0.7523\n",
            "Epoch 15/150\n",
            "537/537 [==============================] - 0s 321us/step - loss: 0.4872 - acc: 0.7598\n",
            "Epoch 16/150\n",
            "537/537 [==============================] - 0s 350us/step - loss: 0.4830 - acc: 0.7616\n",
            "Epoch 17/150\n",
            "537/537 [==============================] - 0s 316us/step - loss: 0.4789 - acc: 0.7672\n",
            "Epoch 18/150\n",
            "537/537 [==============================] - 0s 323us/step - loss: 0.4753 - acc: 0.7635\n",
            "Epoch 19/150\n",
            "537/537 [==============================] - 0s 348us/step - loss: 0.4727 - acc: 0.7654\n",
            "Epoch 20/150\n",
            "537/537 [==============================] - 0s 358us/step - loss: 0.4702 - acc: 0.7654\n",
            "Epoch 21/150\n",
            "537/537 [==============================] - 0s 373us/step - loss: 0.4685 - acc: 0.7728\n",
            "Epoch 22/150\n",
            "537/537 [==============================] - 0s 338us/step - loss: 0.4666 - acc: 0.7709\n",
            "Epoch 23/150\n",
            "537/537 [==============================] - 0s 341us/step - loss: 0.4656 - acc: 0.7765\n",
            "Epoch 24/150\n",
            "537/537 [==============================] - 0s 357us/step - loss: 0.4641 - acc: 0.7821\n",
            "Epoch 25/150\n",
            "537/537 [==============================] - 0s 348us/step - loss: 0.4632 - acc: 0.7728\n",
            "Epoch 26/150\n",
            "537/537 [==============================] - 0s 326us/step - loss: 0.4613 - acc: 0.7840\n",
            "Epoch 27/150\n",
            "537/537 [==============================] - 0s 338us/step - loss: 0.4602 - acc: 0.7821\n",
            "Epoch 28/150\n",
            "537/537 [==============================] - 0s 373us/step - loss: 0.4596 - acc: 0.7803\n",
            "Epoch 29/150\n",
            "537/537 [==============================] - 0s 332us/step - loss: 0.4586 - acc: 0.7877\n",
            "Epoch 30/150\n",
            "537/537 [==============================] - 0s 379us/step - loss: 0.4577 - acc: 0.7858\n",
            "Epoch 31/150\n",
            "537/537 [==============================] - 0s 335us/step - loss: 0.4567 - acc: 0.7840\n",
            "Epoch 32/150\n",
            "537/537 [==============================] - 0s 324us/step - loss: 0.4559 - acc: 0.7914\n",
            "Epoch 33/150\n",
            "537/537 [==============================] - 0s 314us/step - loss: 0.4548 - acc: 0.7896\n",
            "Epoch 34/150\n",
            "537/537 [==============================] - 0s 319us/step - loss: 0.4538 - acc: 0.7914\n",
            "Epoch 35/150\n",
            "537/537 [==============================] - 0s 345us/step - loss: 0.4539 - acc: 0.7896\n",
            "Epoch 36/150\n",
            "537/537 [==============================] - 0s 357us/step - loss: 0.4518 - acc: 0.7896\n",
            "Epoch 37/150\n",
            "537/537 [==============================] - 0s 395us/step - loss: 0.4519 - acc: 0.7877\n",
            "Epoch 38/150\n",
            "537/537 [==============================] - 0s 366us/step - loss: 0.4511 - acc: 0.7896\n",
            "Epoch 39/150\n",
            "537/537 [==============================] - 0s 371us/step - loss: 0.4497 - acc: 0.7877\n",
            "Epoch 40/150\n",
            "537/537 [==============================] - 0s 367us/step - loss: 0.4488 - acc: 0.7896\n",
            "Epoch 41/150\n",
            "537/537 [==============================] - 0s 350us/step - loss: 0.4485 - acc: 0.7914\n",
            "Epoch 42/150\n",
            "537/537 [==============================] - 0s 329us/step - loss: 0.4476 - acc: 0.7896\n",
            "Epoch 43/150\n",
            "537/537 [==============================] - 0s 329us/step - loss: 0.4466 - acc: 0.7952\n",
            "Epoch 44/150\n",
            "537/537 [==============================] - 0s 325us/step - loss: 0.4462 - acc: 0.7933\n",
            "Epoch 45/150\n",
            "537/537 [==============================] - 0s 370us/step - loss: 0.4454 - acc: 0.7914\n",
            "Epoch 46/150\n",
            "537/537 [==============================] - 0s 346us/step - loss: 0.4448 - acc: 0.7933\n",
            "Epoch 47/150\n",
            "537/537 [==============================] - 0s 323us/step - loss: 0.4441 - acc: 0.7914\n",
            "Epoch 48/150\n",
            "537/537 [==============================] - 0s 302us/step - loss: 0.4442 - acc: 0.7933\n",
            "Epoch 49/150\n",
            "537/537 [==============================] - 0s 318us/step - loss: 0.4430 - acc: 0.7914\n",
            "Epoch 50/150\n",
            "537/537 [==============================] - 0s 357us/step - loss: 0.4427 - acc: 0.7952\n",
            "Epoch 51/150\n",
            "537/537 [==============================] - 0s 321us/step - loss: 0.4415 - acc: 0.7933\n",
            "Epoch 52/150\n",
            "537/537 [==============================] - 0s 351us/step - loss: 0.4406 - acc: 0.7933\n",
            "Epoch 53/150\n",
            "537/537 [==============================] - 0s 374us/step - loss: 0.4404 - acc: 0.7970\n",
            "Epoch 54/150\n",
            "537/537 [==============================] - 0s 344us/step - loss: 0.4395 - acc: 0.7970\n",
            "Epoch 55/150\n",
            "537/537 [==============================] - 0s 327us/step - loss: 0.4390 - acc: 0.7970\n",
            "Epoch 56/150\n",
            "537/537 [==============================] - 0s 322us/step - loss: 0.4381 - acc: 0.7970\n",
            "Epoch 57/150\n",
            "537/537 [==============================] - 0s 340us/step - loss: 0.4373 - acc: 0.7970\n",
            "Epoch 58/150\n",
            "537/537 [==============================] - 0s 331us/step - loss: 0.4374 - acc: 0.8007\n",
            "Epoch 59/150\n",
            "537/537 [==============================] - 0s 357us/step - loss: 0.4365 - acc: 0.7989\n",
            "Epoch 60/150\n",
            "537/537 [==============================] - 0s 365us/step - loss: 0.4363 - acc: 0.7989\n",
            "Epoch 61/150\n",
            "537/537 [==============================] - 0s 358us/step - loss: 0.4352 - acc: 0.7970\n",
            "Epoch 62/150\n",
            "537/537 [==============================] - 0s 333us/step - loss: 0.4349 - acc: 0.7970\n",
            "Epoch 63/150\n",
            "537/537 [==============================] - 0s 348us/step - loss: 0.4347 - acc: 0.7970\n",
            "Epoch 64/150\n",
            "537/537 [==============================] - 0s 343us/step - loss: 0.4342 - acc: 0.7933\n",
            "Epoch 65/150\n",
            "537/537 [==============================] - 0s 329us/step - loss: 0.4328 - acc: 0.7989\n",
            "Epoch 66/150\n",
            "537/537 [==============================] - 0s 334us/step - loss: 0.4321 - acc: 0.7989\n",
            "Epoch 67/150\n",
            "537/537 [==============================] - 0s 309us/step - loss: 0.4313 - acc: 0.7970\n",
            "Epoch 68/150\n",
            "537/537 [==============================] - 0s 351us/step - loss: 0.4313 - acc: 0.7989\n",
            "Epoch 69/150\n",
            "537/537 [==============================] - 0s 324us/step - loss: 0.4305 - acc: 0.7970\n",
            "Epoch 70/150\n",
            "537/537 [==============================] - 0s 319us/step - loss: 0.4300 - acc: 0.7989\n",
            "Epoch 71/150\n",
            "537/537 [==============================] - 0s 320us/step - loss: 0.4294 - acc: 0.7970\n",
            "Epoch 72/150\n",
            "537/537 [==============================] - 0s 298us/step - loss: 0.4282 - acc: 0.7989\n",
            "Epoch 73/150\n",
            "537/537 [==============================] - 0s 330us/step - loss: 0.4288 - acc: 0.7989\n",
            "Epoch 74/150\n",
            "537/537 [==============================] - 0s 352us/step - loss: 0.4279 - acc: 0.7989\n",
            "Epoch 75/150\n",
            "537/537 [==============================] - 0s 333us/step - loss: 0.4278 - acc: 0.8007\n",
            "Epoch 76/150\n",
            "537/537 [==============================] - 0s 323us/step - loss: 0.4263 - acc: 0.7989\n",
            "Epoch 77/150\n",
            "537/537 [==============================] - 0s 328us/step - loss: 0.4262 - acc: 0.7989\n",
            "Epoch 78/150\n",
            "537/537 [==============================] - 0s 311us/step - loss: 0.4264 - acc: 0.8007\n",
            "Epoch 79/150\n",
            "537/537 [==============================] - 0s 354us/step - loss: 0.4250 - acc: 0.8026\n",
            "Epoch 80/150\n",
            "537/537 [==============================] - 0s 356us/step - loss: 0.4252 - acc: 0.8007\n",
            "Epoch 81/150\n",
            "537/537 [==============================] - 0s 307us/step - loss: 0.4244 - acc: 0.7989\n",
            "Epoch 82/150\n",
            "537/537 [==============================] - 0s 322us/step - loss: 0.4237 - acc: 0.8026\n",
            "Epoch 83/150\n",
            "537/537 [==============================] - 0s 319us/step - loss: 0.4233 - acc: 0.8007\n",
            "Epoch 84/150\n",
            "537/537 [==============================] - 0s 305us/step - loss: 0.4225 - acc: 0.8007\n",
            "Epoch 85/150\n",
            "537/537 [==============================] - 0s 312us/step - loss: 0.4229 - acc: 0.8007\n",
            "Epoch 86/150\n",
            "537/537 [==============================] - 0s 367us/step - loss: 0.4221 - acc: 0.8007\n",
            "Epoch 87/150\n",
            "537/537 [==============================] - 0s 309us/step - loss: 0.4219 - acc: 0.8026\n",
            "Epoch 88/150\n",
            "537/537 [==============================] - 0s 336us/step - loss: 0.4216 - acc: 0.8045\n",
            "Epoch 89/150\n",
            "537/537 [==============================] - 0s 336us/step - loss: 0.4208 - acc: 0.8007\n",
            "Epoch 90/150\n",
            "537/537 [==============================] - 0s 329us/step - loss: 0.4203 - acc: 0.8007\n",
            "Epoch 91/150\n",
            "537/537 [==============================] - 0s 312us/step - loss: 0.4197 - acc: 0.8045\n",
            "Epoch 92/150\n",
            "537/537 [==============================] - 0s 377us/step - loss: 0.4201 - acc: 0.8063\n",
            "Epoch 93/150\n",
            "537/537 [==============================] - 0s 360us/step - loss: 0.4204 - acc: 0.8007\n",
            "Epoch 94/150\n",
            "537/537 [==============================] - 0s 313us/step - loss: 0.4186 - acc: 0.8045\n",
            "Epoch 95/150\n",
            "537/537 [==============================] - 0s 336us/step - loss: 0.4175 - acc: 0.8045\n",
            "Epoch 96/150\n",
            "537/537 [==============================] - 0s 349us/step - loss: 0.4179 - acc: 0.8045\n",
            "Epoch 97/150\n",
            "537/537 [==============================] - 0s 332us/step - loss: 0.4165 - acc: 0.8063\n",
            "Epoch 98/150\n",
            "537/537 [==============================] - 0s 319us/step - loss: 0.4167 - acc: 0.8119\n",
            "Epoch 99/150\n",
            "537/537 [==============================] - 0s 320us/step - loss: 0.4162 - acc: 0.8082\n",
            "Epoch 100/150\n",
            "537/537 [==============================] - 0s 317us/step - loss: 0.4148 - acc: 0.8101\n",
            "Epoch 101/150\n",
            "537/537 [==============================] - 0s 323us/step - loss: 0.4151 - acc: 0.8063\n",
            "Epoch 102/150\n",
            "537/537 [==============================] - 0s 324us/step - loss: 0.4143 - acc: 0.8138\n",
            "Epoch 103/150\n",
            "537/537 [==============================] - 0s 343us/step - loss: 0.4129 - acc: 0.8138\n",
            "Epoch 104/150\n",
            "537/537 [==============================] - 0s 301us/step - loss: 0.4128 - acc: 0.8138\n",
            "Epoch 105/150\n",
            "537/537 [==============================] - 0s 347us/step - loss: 0.4137 - acc: 0.8045\n",
            "Epoch 106/150\n",
            "537/537 [==============================] - 0s 323us/step - loss: 0.4128 - acc: 0.8156\n",
            "Epoch 107/150\n",
            "537/537 [==============================] - 0s 331us/step - loss: 0.4119 - acc: 0.8138\n",
            "Epoch 108/150\n",
            "537/537 [==============================] - 0s 297us/step - loss: 0.4106 - acc: 0.8175\n",
            "Epoch 109/150\n",
            "537/537 [==============================] - 0s 385us/step - loss: 0.4114 - acc: 0.8138\n",
            "Epoch 110/150\n",
            "537/537 [==============================] - 0s 362us/step - loss: 0.4104 - acc: 0.8138\n",
            "Epoch 111/150\n",
            "537/537 [==============================] - 0s 320us/step - loss: 0.4099 - acc: 0.8119\n",
            "Epoch 112/150\n",
            "537/537 [==============================] - 0s 302us/step - loss: 0.4097 - acc: 0.8138\n",
            "Epoch 113/150\n",
            "537/537 [==============================] - 0s 327us/step - loss: 0.4087 - acc: 0.8194\n",
            "Epoch 114/150\n",
            "537/537 [==============================] - 0s 340us/step - loss: 0.4087 - acc: 0.8175\n",
            "Epoch 115/150\n",
            "537/537 [==============================] - 0s 326us/step - loss: 0.4085 - acc: 0.8138\n",
            "Epoch 116/150\n",
            "537/537 [==============================] - 0s 315us/step - loss: 0.4090 - acc: 0.8156\n",
            "Epoch 117/150\n",
            "537/537 [==============================] - 0s 321us/step - loss: 0.4073 - acc: 0.8175\n",
            "Epoch 118/150\n",
            "537/537 [==============================] - 0s 309us/step - loss: 0.4070 - acc: 0.8156\n",
            "Epoch 119/150\n",
            "537/537 [==============================] - 0s 376us/step - loss: 0.4068 - acc: 0.8156\n",
            "Epoch 120/150\n",
            "537/537 [==============================] - 0s 354us/step - loss: 0.4076 - acc: 0.8156\n",
            "Epoch 121/150\n",
            "537/537 [==============================] - 0s 328us/step - loss: 0.4060 - acc: 0.8194\n",
            "Epoch 122/150\n",
            "537/537 [==============================] - 0s 324us/step - loss: 0.4061 - acc: 0.8175\n",
            "Epoch 123/150\n",
            "537/537 [==============================] - 0s 303us/step - loss: 0.4053 - acc: 0.8194\n",
            "Epoch 124/150\n",
            "537/537 [==============================] - 0s 324us/step - loss: 0.4048 - acc: 0.8212\n",
            "Epoch 125/150\n",
            "537/537 [==============================] - 0s 324us/step - loss: 0.4047 - acc: 0.8175\n",
            "Epoch 126/150\n",
            "537/537 [==============================] - 0s 347us/step - loss: 0.4041 - acc: 0.8194\n",
            "Epoch 127/150\n",
            "537/537 [==============================] - 0s 318us/step - loss: 0.4038 - acc: 0.8231\n",
            "Epoch 128/150\n",
            "537/537 [==============================] - 0s 343us/step - loss: 0.4037 - acc: 0.8212\n",
            "Epoch 129/150\n",
            "537/537 [==============================] - 0s 326us/step - loss: 0.4034 - acc: 0.8194\n",
            "Epoch 130/150\n",
            "537/537 [==============================] - 0s 340us/step - loss: 0.4022 - acc: 0.8212\n",
            "Epoch 131/150\n",
            "537/537 [==============================] - 0s 339us/step - loss: 0.4029 - acc: 0.8231\n",
            "Epoch 132/150\n",
            "537/537 [==============================] - 0s 358us/step - loss: 0.4008 - acc: 0.8212\n",
            "Epoch 133/150\n",
            "537/537 [==============================] - 0s 329us/step - loss: 0.4013 - acc: 0.8250\n",
            "Epoch 134/150\n",
            "537/537 [==============================] - 0s 350us/step - loss: 0.4007 - acc: 0.8231\n",
            "Epoch 135/150\n",
            "537/537 [==============================] - 0s 321us/step - loss: 0.4003 - acc: 0.8231\n",
            "Epoch 136/150\n",
            "537/537 [==============================] - 0s 333us/step - loss: 0.3995 - acc: 0.8194\n",
            "Epoch 137/150\n",
            "537/537 [==============================] - 0s 339us/step - loss: 0.3995 - acc: 0.8212\n",
            "Epoch 138/150\n",
            "537/537 [==============================] - 0s 325us/step - loss: 0.3993 - acc: 0.8212\n",
            "Epoch 139/150\n",
            "537/537 [==============================] - 0s 318us/step - loss: 0.3986 - acc: 0.8212\n",
            "Epoch 140/150\n",
            "537/537 [==============================] - 0s 347us/step - loss: 0.3995 - acc: 0.8212\n",
            "Epoch 141/150\n",
            "537/537 [==============================] - 0s 305us/step - loss: 0.3975 - acc: 0.8250\n",
            "Epoch 142/150\n",
            "537/537 [==============================] - 0s 336us/step - loss: 0.3973 - acc: 0.8268\n",
            "Epoch 143/150\n",
            "537/537 [==============================] - 0s 371us/step - loss: 0.3969 - acc: 0.8212\n",
            "Epoch 144/150\n",
            "537/537 [==============================] - 0s 350us/step - loss: 0.3978 - acc: 0.8287\n",
            "Epoch 145/150\n",
            "537/537 [==============================] - 0s 323us/step - loss: 0.3963 - acc: 0.8250\n",
            "Epoch 146/150\n",
            "537/537 [==============================] - 0s 315us/step - loss: 0.3951 - acc: 0.8268\n",
            "Epoch 147/150\n",
            "537/537 [==============================] - 0s 335us/step - loss: 0.3962 - acc: 0.8287\n",
            "Epoch 148/150\n",
            "537/537 [==============================] - 0s 324us/step - loss: 0.3943 - acc: 0.8250\n",
            "Epoch 149/150\n",
            "537/537 [==============================] - 0s 354us/step - loss: 0.3949 - acc: 0.8287\n",
            "Epoch 150/150\n",
            "537/537 [==============================] - 0s 299us/step - loss: 0.3932 - acc: 0.8231\n",
            "231/231 [==============================] - 0s 1ms/step\n",
            "Test Data\n",
            "Accuracy is :  0.792207792465821\n",
            "537/537 [==============================] - 0s 58us/step\n",
            "Train Data\n",
            "Accuracy is :  0.8230912472282708\n"
          ],
          "name": "stdout"
        }
      ]
    },
    {
      "cell_type": "code",
      "metadata": {
        "id": "k2u5b1F67pQq",
        "colab_type": "code",
        "outputId": "91130eca-3e08-4446-ea9c-5482ba3d399c",
        "colab": {
          "base_uri": "https://localhost:8080/",
          "height": 118
        }
      },
      "source": [
        "# Evaluate Model on test data\n",
        "_, accuracy= model.evaluate(X_test, y_test)\n",
        "\n",
        "print(\"Test Data\")\n",
        "print(\"Accuracy is : \", accuracy)\n",
        "\n",
        "# Evaluate Model on train data\n",
        "_, accuracy = model.evaluate(X_train,y_train)\n",
        "print(\"Train Data\")\n",
        "print(\"Accuracy is : \", accuracy)"
      ],
      "execution_count": 0,
      "outputs": [
        {
          "output_type": "stream",
          "text": [
            "231/231 [==============================] - 0s 124us/step\n",
            "Test Data\n",
            "Accuracy is :  0.792207792465821\n",
            "537/537 [==============================] - 0s 69us/step\n",
            "Train Data\n",
            "Accuracy is :  0.8230912472282708\n"
          ],
          "name": "stdout"
        }
      ]
    },
    {
      "cell_type": "code",
      "metadata": {
        "id": "XLf94xp2_E3G",
        "colab_type": "code",
        "colab": {}
      },
      "source": [
        "# predicting by turning probablity into class\n",
        "predict = model.predict(X_test, batch_size=150)\n",
        "predictions = [round(x[0]) for x in predict]"
      ],
      "execution_count": 0,
      "outputs": []
    },
    {
      "cell_type": "code",
      "metadata": {
        "id": "p5cOZndeMc15",
        "colab_type": "code",
        "colab": {}
      },
      "source": [
        "# directly predicting class\n",
        "classes = model.predict_classes(X_test, batch_size=150)\n"
      ],
      "execution_count": 0,
      "outputs": []
    },
    {
      "cell_type": "code",
      "metadata": {
        "id": "cyfAcTvqMkCq",
        "colab_type": "code",
        "outputId": "056e4117-a8da-4be4-842c-5b7a305801e0",
        "colab": {
          "base_uri": "https://localhost:8080/",
          "height": 101
        }
      },
      "source": [
        "for i in range(0,5):\n",
        "  print(\"For {} : {} Expected ({})\".format(np.round(X_test[i],2).tolist(), classes[i][0], y_test[i]))"
      ],
      "execution_count": 0,
      "outputs": [
        {
          "output_type": "stream",
          "text": [
            "For [-1.18, 1.0, 0.66, 1.14, 1.76, 1.23, -0.6, -0.57] : 1 Expected (0.0)\n",
            "For [-1.18, 0.14, -0.06, -1.23, -0.65, -0.94, -0.78, -1.07] : 0 Expected (0.0)\n",
            "For [-0.3, 0.01, -0.9, -1.23, -0.65, 0.52, -1.01, -0.74] : 0 Expected (1.0)\n",
            "For [1.16, 1.92, -0.06, 0.95, 3.74, -0.24, 0.41, 2.18] : 1 Expected (1.0)\n",
            "For [-0.59, -1.68, 0.04, 0.71, -0.06, -0.91, -0.84, -0.74] : 0 Expected (0.0)\n"
          ],
          "name": "stdout"
        }
      ]
    },
    {
      "cell_type": "code",
      "metadata": {
        "id": "bYAci7cmQOB5",
        "colab_type": "code",
        "colab": {}
      },
      "source": [
        ""
      ],
      "execution_count": 0,
      "outputs": []
    },
    {
      "cell_type": "code",
      "metadata": {
        "id": "KWcmPuo_Q1It",
        "colab_type": "code",
        "colab": {}
      },
      "source": [
        ""
      ],
      "execution_count": 0,
      "outputs": []
    }
  ]
}